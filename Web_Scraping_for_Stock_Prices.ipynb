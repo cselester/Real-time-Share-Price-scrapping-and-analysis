{
  "cells": [
    {
      "cell_type": "markdown",
      "metadata": {
        "id": "view-in-github",
        "colab_type": "text"
      },
      "source": [
        "<a href=\"https://colab.research.google.com/github/cselester/Real-time-Share-Price-scrapping-and-analysis/blob/main/Web_Scraping_for_Stock_Prices.ipynb\" target=\"_parent\"><img src=\"https://colab.research.google.com/assets/colab-badge.svg\" alt=\"Open In Colab\"/></a>"
      ]
    },
    {
      "cell_type": "markdown",
      "source": [
        "# **Real Time Stock Price Analysis Through Web Scrapping**"
      ],
      "metadata": {
        "id": "iPa0K2oNy6It"
      }
    },
    {
      "cell_type": "markdown",
      "source": [
        "# 1. Data Extraction"
      ],
      "metadata": {
        "id": "c9J3nSxSxFvw"
      }
    },
    {
      "cell_type": "markdown",
      "source": [
        "a. 📥 Setup and Dependencies"
      ],
      "metadata": {
        "id": "o5PM3UH_xQCC"
      }
    },
    {
      "cell_type": "code",
      "source": [
        "!pip install openpyxl beautifulsoup4 lxml\n",
        "\n",
        "import requests\n",
        "from bs4 import BeautifulSoup\n",
        "import pandas as pd\n",
        "import time\n",
        "import matplotlib.pyplot as plt\n",
        "import seaborn as sns\n",
        "import numpy as np\n",
        "from google.colab import userdata"
      ],
      "metadata": {
        "colab": {
          "base_uri": "https://localhost:8080/"
        },
        "id": "VDQHH2oBxEwV",
        "outputId": "e0a7da8f-72b6-47ab-ba4e-6f0551cac8ee"
      },
      "execution_count": 43,
      "outputs": [
        {
          "output_type": "stream",
          "name": "stdout",
          "text": [
            "Requirement already satisfied: openpyxl in /usr/local/lib/python3.11/dist-packages (3.1.5)\n",
            "Requirement already satisfied: beautifulsoup4 in /usr/local/lib/python3.11/dist-packages (4.13.4)\n",
            "Requirement already satisfied: lxml in /usr/local/lib/python3.11/dist-packages (5.4.0)\n",
            "Requirement already satisfied: et-xmlfile in /usr/local/lib/python3.11/dist-packages (from openpyxl) (2.0.0)\n",
            "Requirement already satisfied: soupsieve>1.2 in /usr/local/lib/python3.11/dist-packages (from beautifulsoup4) (2.7)\n",
            "Requirement already satisfied: typing-extensions>=4.0.0 in /usr/local/lib/python3.11/dist-packages (from beautifulsoup4) (4.13.2)\n"
          ]
        }
      ]
    },
    {
      "cell_type": "markdown",
      "source": [
        "b. 🌐 Source Configuration"
      ],
      "metadata": {
        "id": "Ui9M0mQkxUSW"
      }
    },
    {
      "cell_type": "code",
      "source": [
        "API_KEY = userdata.get('KEY')\n",
        "usd_inr_fallback = 83.0\n",
        "\n",
        "symbols = {\n",
        "    'AAPL': 'https://groww.in/us-stocks/aapl',\n",
        "    'MSFT': 'https://groww.in/us-stocks/msft',\n",
        "    'GOOGL': 'https://groww.in/us-stocks/googl',\n",
        "    'TSLA': 'https://groww.in/us-stocks/tsla',\n",
        "    'NVDA': 'https://groww.in/us-stocks/nvda'\n",
        "}\n",
        "\n",
        "headers = {\n",
        "    'user-agent': 'Mozilla/5.0 (Windows NT 10.0; Win64; x64) AppleWebKit/537.36 Chrome/84.0.4147.105 Safari/537.36'\n",
        "}"
      ],
      "metadata": {
        "id": "9fVO6qrqxWgy"
      },
      "execution_count": 44,
      "outputs": []
    },
    {
      "cell_type": "markdown",
      "source": [
        "c. Fetch Live USD to INR Rate"
      ],
      "metadata": {
        "id": "r_ies1Mwxd_i"
      }
    },
    {
      "cell_type": "code",
      "source": [
        "def get_usd_inr_rate():\n",
        "    try:\n",
        "        res = requests.get(\n",
        "            f'https://www.alphavantage.co/query?function=CURRENCY_EXCHANGE_RATE&from_currency=USD&to_currency=INR&apikey={API_KEY}')\n",
        "        fx = res.json()\n",
        "        rate = float(fx[\"Realtime Currency Exchange Rate\"][\"5. Exchange Rate\"])\n",
        "        print(f\"✅ Live USD to INR rate: ₹{rate}\")\n",
        "        return rate\n",
        "    except Exception as e:\n",
        "        print(f\"⚠️ FX API failed, using fallback: ₹{usd_inr_fallback}\")\n",
        "        return usd_inr_fallback\n",
        "\n",
        "usd_inr = get_usd_inr_rate()\n"
      ],
      "metadata": {
        "colab": {
          "base_uri": "https://localhost:8080/"
        },
        "id": "QVAZ4WO0xghv",
        "outputId": "63ff5fd9-b3b2-4088-bd57-92e0901823b0"
      },
      "execution_count": 45,
      "outputs": [
        {
          "output_type": "stream",
          "name": "stdout",
          "text": [
            "✅ Live USD to INR rate: ₹85.151\n"
          ]
        }
      ]
    },
    {
      "cell_type": "markdown",
      "source": [
        "d. Scrape or API Fallback for Stock Prices"
      ],
      "metadata": {
        "id": "7lnqz9Jmxk7e"
      }
    },
    {
      "cell_type": "code",
      "source": [
        "data = []\n",
        "\n",
        "for symbol, url in symbols.items():\n",
        "    scraped = False\n",
        "    try:\n",
        "        res = requests.get(url, headers=headers)\n",
        "        soup = BeautifulSoup(res.text, 'lxml')\n",
        "        price_tag = soup.select_one('div.usph14PriceWrapper span')\n",
        "        if price_tag:\n",
        "            price_usd = float(price_tag.text.replace('$', '').replace(',', ''))\n",
        "            price_inr = round(price_usd * usd_inr, 2)\n",
        "            data.append([symbol, price_usd, price_inr, 'Scraped'])\n",
        "            print(f\"✅ [Scraped] {symbol}: ${price_usd} → ₹{price_inr}\")\n",
        "            scraped = True\n",
        "    except Exception as e:\n",
        "        print(f\"❌ Scraping failed for {symbol}: {e}\")\n",
        "\n",
        "    if not scraped:\n",
        "        try:\n",
        "            api_url = f'https://www.alphavantage.co/query?function=GLOBAL_QUOTE&symbol={symbol}&apikey={API_KEY}'\n",
        "            res = requests.get(api_url)\n",
        "            quote = res.json()['Global Quote']\n",
        "            price_usd = float(quote['05. price'])\n",
        "            price_inr = round(price_usd * usd_inr, 2)\n",
        "            data.append([symbol, price_usd, price_inr, 'API'])\n",
        "            print(f\"✅ [API] {symbol}: ${price_usd} → ₹{price_inr}\")\n",
        "        except Exception as e:\n",
        "            print(f\"❌ API also failed for {symbol}: {e}\")\n",
        "\n",
        "    time.sleep(12)  # Prevent API rate limits\n"
      ],
      "metadata": {
        "colab": {
          "base_uri": "https://localhost:8080/"
        },
        "id": "X32rBMnCxmLg",
        "outputId": "f1e8bc3e-39d5-489d-92d0-168d714a5eee"
      },
      "execution_count": 29,
      "outputs": [
        {
          "output_type": "stream",
          "name": "stdout",
          "text": [
            "✅ [Scraped] AAPL: $195.27 → ₹16627.44\n",
            "✅ [Scraped] MSFT: $450.18 → ₹38333.28\n",
            "✅ [Scraped] GOOGL: $168.47 → ₹14345.39\n",
            "✅ [Scraped] TSLA: $339.34 → ₹28895.14\n",
            "✅ [Scraped] NVDA: $131.29 → ₹11179.47\n"
          ]
        }
      ]
    },
    {
      "cell_type": "markdown",
      "source": [
        "# 2. Data Preprocessing"
      ],
      "metadata": {
        "id": "KJuSfIbtxqKE"
      }
    },
    {
      "cell_type": "markdown",
      "source": [
        "a. Load Data into DataFrame"
      ],
      "metadata": {
        "id": "ZpYppPGpxtXD"
      }
    },
    {
      "cell_type": "code",
      "source": [
        "df = pd.DataFrame(data, columns=['Symbol', 'Price (USD)', 'Price (INR)', 'Source'])"
      ],
      "metadata": {
        "id": "OXTFKxIvxv_t"
      },
      "execution_count": 30,
      "outputs": []
    },
    {
      "cell_type": "markdown",
      "source": [
        "b. Clean Data"
      ],
      "metadata": {
        "id": "eWKC7C8Txw9I"
      }
    },
    {
      "cell_type": "code",
      "source": [
        "df.dropna(inplace=True)\n",
        "df = df[~df.duplicated()]"
      ],
      "metadata": {
        "id": "9LCa9rcqxzac"
      },
      "execution_count": 31,
      "outputs": []
    },
    {
      "cell_type": "markdown",
      "source": [
        "c. Feature Engineering"
      ],
      "metadata": {
        "id": "UXoNWm4Gx330"
      }
    },
    {
      "cell_type": "code",
      "source": [
        "df['Price (INR)'] = pd.to_numeric(df['Price (INR)'], errors='coerce')\n",
        "df['Price (USD)'] = pd.to_numeric(df['Price (USD)'], errors='coerce')\n",
        "df['Log Price INR'] = np.log1p(df['Price (INR)'])"
      ],
      "metadata": {
        "id": "YsgEH-pbx6cV"
      },
      "execution_count": 32,
      "outputs": []
    },
    {
      "cell_type": "markdown",
      "source": [
        "d. Data Integrity Checks"
      ],
      "metadata": {
        "id": "wYPUd_FYx_GD"
      }
    },
    {
      "cell_type": "code",
      "source": [
        "df = df[(df['Price (INR)'] > 0) & (df['Price (USD)'] > 0)]"
      ],
      "metadata": {
        "id": "qOM0EzdTx-th"
      },
      "execution_count": 33,
      "outputs": []
    },
    {
      "cell_type": "markdown",
      "source": [
        "# 3. Exploratory Data Analysis (EDA)"
      ],
      "metadata": {
        "id": "aSLzLtHryCBq"
      }
    },
    {
      "cell_type": "markdown",
      "source": [
        "a. Summary Statistics"
      ],
      "metadata": {
        "id": "Aiz0HLecyGfL"
      }
    },
    {
      "cell_type": "code",
      "source": [
        "print(\"\\n📊 Summary Statistics:\")\n",
        "print(df[['Price (USD)', 'Price (INR)']].describe())"
      ],
      "metadata": {
        "colab": {
          "base_uri": "https://localhost:8080/"
        },
        "id": "_23LDD6cyJqD",
        "outputId": "65f7d51b-cc15-42e7-a610-4463cd46d3b3"
      },
      "execution_count": 34,
      "outputs": [
        {
          "output_type": "stream",
          "name": "stdout",
          "text": [
            "\n",
            "📊 Summary Statistics:\n",
            "       Price (USD)   Price (INR)\n",
            "count     5.000000      5.000000\n",
            "mean    256.910000  21876.144000\n",
            "std     133.743696  11388.410933\n",
            "min     131.290000  11179.470000\n",
            "25%     168.470000  14345.390000\n",
            "50%     195.270000  16627.440000\n",
            "75%     339.340000  28895.140000\n",
            "max     450.180000  38333.280000\n"
          ]
        }
      ]
    },
    {
      "cell_type": "markdown",
      "source": [
        "b. Anomaly Detection"
      ],
      "metadata": {
        "id": "PlRPxu_eyN5S"
      }
    },
    {
      "cell_type": "code",
      "source": [
        "z_scores = np.abs((df[\"Price (INR)\"] - df[\"Price (INR)\"].mean()) / df[\"Price (INR)\"].std())\n",
        "df[\"Anomaly\"] = z_scores > 2"
      ],
      "metadata": {
        "id": "ERwj9dEPyNNQ"
      },
      "execution_count": 35,
      "outputs": []
    },
    {
      "cell_type": "markdown",
      "source": [
        "c. Visualizations"
      ],
      "metadata": {
        "id": "8EmSNWYRyQ8K"
      }
    },
    {
      "cell_type": "markdown",
      "source": [
        "Bar Chart"
      ],
      "metadata": {
        "id": "NdnitqCxybkQ"
      }
    },
    {
      "cell_type": "code",
      "source": [
        "plt.figure(figsize=(10, 5))\n",
        "sns.barplot(x='Symbol', y='Price (INR)', data=df, hue='Source')\n",
        "plt.title(\"US Stock Prices (INR)\")\n",
        "plt.xlabel(\"Stock Symbol\")\n",
        "plt.ylabel(\"Price in INR\")\n",
        "plt.grid(True)\n",
        "plt.tight_layout()\n",
        "plt.show()"
      ],
      "metadata": {
        "colab": {
          "base_uri": "https://localhost:8080/",
          "height": 496
        },
        "id": "ETPCib6JyVRK",
        "outputId": "4fece435-2c0a-4993-8b51-930dcca10a2d"
      },
      "execution_count": 36,
      "outputs": [
        {
          "output_type": "display_data",
          "data": {
            "text/plain": [
              "<Figure size 1000x500 with 1 Axes>"
            ],
            "image/png": "[encoded data removed]"
          },
          "metadata": {}
        }
      ]
    },
    {
      "cell_type": "markdown",
      "source": [
        "Anomaly Scatter Plot"
      ],
      "metadata": {
        "id": "AuxUBu8zydsE"
      }
    },
    {
      "cell_type": "code",
      "source": [
        "plt.figure(figsize=(10, 5))\n",
        "sns.scatterplot(x='Symbol', y='Price (INR)', hue='Anomaly', data=df, palette={True: \"red\", False: \"green\"})\n",
        "plt.title(\"Anomaly Detection in Stock Prices\")\n",
        "plt.tight_layout()\n",
        "plt.show()"
      ],
      "metadata": {
        "colab": {
          "base_uri": "https://localhost:8080/",
          "height": 496
        },
        "id": "OUQPSeyHygrU",
        "outputId": "a8b26167-10c7-480b-f47b-6e8bf1717a09"
      },
      "execution_count": 37,
      "outputs": [
        {
          "output_type": "display_data",
          "data": {
            "text/plain": [
              "<Figure size 1000x500 with 1 Axes>"
            ],
            "image/png": "[encoded data removed]"
          },
          "metadata": {}
        }
      ]
    },
    {
      "cell_type": "markdown",
      "source": [
        "Simulated Volume + Boxplot"
      ],
      "metadata": {
        "id": "B3eNybBYymBk"
      }
    },
    {
      "cell_type": "code",
      "source": [
        "df['Volume'] = [32500000, 22400000, 15300000, 41200000, 20500000]  # Simulated values\n",
        "df['LogVolume'] = np.log1p(df['Volume'])\n",
        "\n",
        "plt.figure(figsize=(8, 4))\n",
        "sns.boxplot(data=df, x='Source', y='LogVolume')\n",
        "plt.title(\"Log Volume Distribution by Data Source\")\n",
        "plt.tight_layout()\n",
        "plt.show()\n"
      ],
      "metadata": {
        "colab": {
          "base_uri": "https://localhost:8080/",
          "height": 407
        },
        "id": "Os__uHY8ypyB",
        "outputId": "3de6fa8b-e883-45f2-c837-789a86393966"
      },
      "execution_count": 38,
      "outputs": [
        {
          "output_type": "display_data",
          "data": {
            "text/plain": [
              "<Figure size 800x400 with 1 Axes>"
            ],
            "image/png": "[encoded data removed]"
          },
          "metadata": {}
        }
      ]
    },
    {
      "cell_type": "markdown",
      "source": [
        "# 4. Export Results"
      ],
      "metadata": {
        "id": "IbD70B4Eyswf"
      }
    },
    {
      "cell_type": "code",
      "source": [
        "df.to_excel('us_stock_prices_analysis.xlsx', index=False)\n",
        "print(\"📁 Saved to: us_stock_prices_analysis.xlsx\")"
      ],
      "metadata": {
        "colab": {
          "base_uri": "https://localhost:8080/"
        },
        "id": "ElLN1VNAyseM",
        "outputId": "914b6bf3-506b-4acd-fada-2fe605fa2734"
      },
      "execution_count": 39,
      "outputs": [
        {
          "output_type": "stream",
          "name": "stdout",
          "text": [
            "📁 Saved to: us_stock_prices_analysis.xlsx\n"
          ]
        }
      ]
    }
  ],
  "metadata": {
    "colab": {
      "provenance": [],
      "authorship_tag": "ABX9TyOitFvdT8QfH0KKKNgO0dhS",
      "include_colab_link": true
    },
    "kernelspec": {
      "display_name": "Python 3",
      "name": "python3"
    },
    "language_info": {
      "name": "python"
    }
  },
  "nbformat": 4,
  "nbformat_minor": 0
}